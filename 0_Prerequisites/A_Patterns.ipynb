{
 "cells": [
  {
   "cell_type": "markdown",
   "id": "de6bcf12",
   "metadata": {},
   "source": [
    "- In every pattern, there are rows (verticle) and columns (horizontal).\n",
    "- Step 1: No. of rows = No. of times outer loop will run.\n",
    "- Step 2: Identify for every row no.\n",
    "  - How many columns are there \n",
    "  - Types of elements in the column\n",
    "- Step 3: What do you need to print.\n",
    "- Note: Try to find the formula relating rows and columns."
   ]
  },
  {
   "cell_type": "code",
   "execution_count": 3,
   "id": "95517e28",
   "metadata": {},
   "outputs": [
    {
     "name": "stdout",
     "output_type": "stream",
     "text": [
      "* \n",
      "* * \n",
      "* * * \n",
      "* * * * \n",
      "* * * * * \n"
     ]
    }
   ],
   "source": [
    "# Pattern 1 : Pyramid\n",
    "\n",
    "def pattern1(n):\n",
    "    for row in range(1, n + 1):\n",
    "    # loop goes from 1 to n (inclusive), this loop controls the row number.\n",
    "        for column in range(1, row + 1):\n",
    "        # loop goes from 1 to row number (inclusive), this controls printing.\n",
    "            print('*', end = \" \")\n",
    "        # now, row is printed, add a new line\n",
    "        print()\n",
    "\n",
    "if __name__ == \"__main__\":\n",
    "    pattern1(5)"
   ]
  },
  {
   "cell_type": "code",
   "execution_count": 4,
   "id": "cff27c17",
   "metadata": {},
   "outputs": [
    {
     "name": "stdout",
     "output_type": "stream",
     "text": [
      "* * * * * \n",
      "* * * * * \n",
      "* * * * * \n",
      "* * * * * \n",
      "* * * * * \n"
     ]
    }
   ],
   "source": [
    "# Pattern 2 : Square \n",
    "\n",
    "def pattern2(n):\n",
    "    for row in range(1, n + 1):\n",
    "        for column in range(1, n + 1):\n",
    "            print('*', end = \" \")\n",
    "        print()\n",
    "\n",
    "if __name__ == '__main__':\n",
    "    pattern2(5)"
   ]
  },
  {
   "cell_type": "code",
   "execution_count": 7,
   "id": "b16d354c",
   "metadata": {},
   "outputs": [
    {
     "name": "stdout",
     "output_type": "stream",
     "text": [
      "* * * * \n",
      "* * * \n",
      "* * \n",
      "* \n",
      "\n"
     ]
    }
   ],
   "source": [
    "# Pattern 3 : Reverse Pyramid\n",
    "\n",
    "def pattern3(n):\n",
    "    for row in range(1, n + 1):\n",
    "        for column in range(1, n + 1 - row):\n",
    "            print('*', end = \" \")\n",
    "        print()\n",
    "\n",
    "if __name__ == '__main__':\n",
    "    pattern3(5)"
   ]
  },
  {
   "cell_type": "code",
   "execution_count": 10,
   "id": "3766cfae",
   "metadata": {},
   "outputs": [
    {
     "name": "stdout",
     "output_type": "stream",
     "text": [
      "1 \n",
      "1 2 \n",
      "1 2 3 \n",
      "1 2 3 4 \n",
      "1 2 3 4 5 \n"
     ]
    }
   ],
   "source": [
    "# Pattern 4 : Number Pyramid\n",
    "\n",
    "def pattern4(n):\n",
    "    for row in range(1, n + 1):\n",
    "        for column in range(1, row + 1):\n",
    "            print(column, end = \" \")\n",
    "        print()\n",
    "\n",
    "if __name__ == '__main__':\n",
    "    pattern4(5)"
   ]
  },
  {
   "cell_type": "code",
   "execution_count": 13,
   "id": "db690432",
   "metadata": {},
   "outputs": [
    {
     "name": "stdout",
     "output_type": "stream",
     "text": [
      "1 2 3 4 5 6 \n",
      "1 2 3 4 5 6 \n",
      "1 2 3 4 5 6 \n",
      "1 2 3 4 5 6 \n",
      "1 2 3 4 5 6 \n"
     ]
    }
   ],
   "source": [
    "# Pattern 5 : Rows & Columns given\n",
    "\n",
    "def pattern5(rows, columns):\n",
    "    for row in range(1, rows + 1):\n",
    "        for column in range(1, columns+ 1):\n",
    "            print(column, end = \" \")\n",
    "        print()\n",
    "\n",
    "if __name__ == '__main__':\n",
    "    rows = 5\n",
    "    columns = 6\n",
    "    pattern5(rows, columns)"
   ]
  }
 ],
 "metadata": {
  "kernelspec": {
   "display_name": "Python 3",
   "language": "python",
   "name": "python3"
  },
  "language_info": {
   "codemirror_mode": {
    "name": "ipython",
    "version": 3
   },
   "file_extension": ".py",
   "mimetype": "text/x-python",
   "name": "python",
   "nbconvert_exporter": "python",
   "pygments_lexer": "ipython3",
   "version": "3.10.6"
  }
 },
 "nbformat": 4,
 "nbformat_minor": 5
}
