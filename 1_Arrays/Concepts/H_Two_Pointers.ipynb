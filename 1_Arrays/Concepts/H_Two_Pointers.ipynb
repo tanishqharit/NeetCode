{
 "cells": [
  {
   "cell_type": "markdown",
   "id": "33138a14",
   "metadata": {},
   "source": [
    "Two Pointers\n",
    "- Core Idea: We’ve already seen a variation of this method in the sliding window technique (which also uses two pointers). But unlike sliding window, the two pointers technique does not always require a fixed or variable window. Instead, the pointers can move independently depending on the problem’s conditions.\n",
    "- So, we focus more on the pointers rather than the window.\n",
    "- Maintain 2 pointers at L (left) and R (right). They can both start at the beginning of the array, the end or even at different places depending upon the problem.\n",
    "- Shrinking Window Technique: Start the L pointer at 0 and R pointer at len-1. Increment L or decrement R or both until both the pointers meet each other."
   ]
  },
  {
   "cell_type": "code",
   "execution_count": null,
   "id": "5c3ff23f",
   "metadata": {},
   "outputs": [
    {
     "name": "stdout",
     "output_type": "stream",
     "text": [
      "False\n",
      "True\n",
      "True\n"
     ]
    }
   ],
   "source": [
    "# Check if a string is a Palindrome or not\n",
    "# Palindrome : Sequence that reads the same backwards as forwards\n",
    "# Before Checking palindrome, rebuild whole string to lower case and remove all non-alphanumeric characters.\n",
    "\n",
    "def isPalindrome(word):\n",
    "    L, R = 0, len(word) - 1     # Left pointer is frist and Right pointer is last element\n",
    "\n",
    "    while L < R:                                # Main loop - until pointers meet in the middle\n",
    "        while L < R and not word[L].isalnum():  # Skip any non-alphanumeric characters from the left side\n",
    "            L += 1                              # by incrementing L until we find an alphanumeric character\n",
    "        while L < R and not word[R].isalnum():  # Similar, Skip any non-alphanumeric characters from the right side\n",
    "            R -= 1                              # by decrementing R until we find an alphanumeric character\n",
    "\n",
    "        if word[L].lower() != word[R].lower():  # Compare the characters at positions L and R (in lowercase)\n",
    "            return False                        # False, if even a single character is differnet on both pointers\n",
    "        L += 1\n",
    "        R -= 1              # If the characters match, move both pointers inward: L moves right, R moves left\n",
    "    return True             # If we've made it through the entire loop without finding a mismatch, return True\n",
    "\n",
    "if __name__ == '__main__':\n",
    "    print(isPalindrome(word = 'Tanishq Harit'))\n",
    "    print(isPalindrome(word = 'A man, a plan, a canal: Panama'))\n",
    "    print(isPalindrome(word = 'Madam'))\n",
    "\n",
    "# Time Complexity: O(n)\n",
    "# Space Complexity: O(1)"
   ]
  },
  {
   "cell_type": "markdown",
   "id": "f007da2a",
   "metadata": {},
   "source": [
    "Target Sum (Leetcode -> TwoSum2 Problem)\n",
    "- Problem : Given a sorted input array, return the two indices of two elements which sums up to the target value.\n",
    "- Brute Force : Check every possible pair, nested loops -> O(n^2)\n",
    "- Two Pointers : Array is sorted, Inward moving pointers, sum too large -> move R to left, sum too small -> move L to right"
   ]
  },
  {
   "cell_type": "code",
   "execution_count": null,
   "id": "dd254ee3",
   "metadata": {},
   "outputs": [
    {
     "name": "stdout",
     "output_type": "stream",
     "text": [
      "[2, 3]\n"
     ]
    }
   ],
   "source": [
    "def targetSum(nums, target):\n",
    "    L, R = 0, len(nums) - 1\n",
    "    while L < R:\n",
    "        if nums[L] + nums[R] > target:\n",
    "            R -= 1\n",
    "        elif nums[L] + nums[R] < target:\n",
    "            L += 1\n",
    "        else:\n",
    "            return [L, R]\n",
    "\n",
    "if __name__ == '__main__':\n",
    "    print(targetSum(nums = [-1, 2, 3, 4, 7, 9], target = 7))\n",
    "\n",
    "# Time Complexity: O(n)\n",
    "# Space Complexity: O(1)\n",
    "\n",
    "# Dry Running the Code\n",
    "# Given: nums = [-1, 2, 3, 4, 7, 9], target = 7\n",
    "# nums[L] = -1 and nums[R] = 9, sum = 8 > target -> R -= 1\n",
    "# nums[L] = -1 and nums[R] = 7, sum = 6 < target -> L += 1\n",
    "# nums[L] = 2 and nums[R] = 7, sum = 9 > target -> R -= 1\n",
    "# nums[L] = 2 and nums[R] = 4, sum = 6 < target -> L += 1\n",
    "# nums[L] = 3 and nums[R] = 4, sum = 7 == target -> return [L, R]"
   ]
  }
 ],
 "metadata": {
  "kernelspec": {
   "display_name": "Python 3",
   "language": "python",
   "name": "python3"
  },
  "language_info": {
   "codemirror_mode": {
    "name": "ipython",
    "version": 3
   },
   "file_extension": ".py",
   "mimetype": "text/x-python",
   "name": "python",
   "nbconvert_exporter": "python",
   "pygments_lexer": "ipython3",
   "version": "3.10.6"
  }
 },
 "nbformat": 4,
 "nbformat_minor": 5
}
