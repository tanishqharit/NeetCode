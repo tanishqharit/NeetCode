{
 "cells": [
  {
   "cell_type": "markdown",
   "id": "4fb084f3",
   "metadata": {},
   "source": [
    "Prefix Sums\n",
    "- A prefix sum is an array where each element at index i stores the sum of all elements from the original array nums[0] up to nums[i].\n",
    "- Example: nums = [2, -1, 3, -3, 4], prefix = [2, 1, 4, 1, 5]\n",
    "- Why Prefix Sum - We often need to find the sum of elements between two indices (L to R).\n",
    "- Without prefix sums → takes O(n) time and with prefix sums → takes O(1) time."
   ]
  },
  {
   "cell_type": "code",
   "execution_count": null,
   "id": "c85410fd",
   "metadata": {},
   "outputs": [
    {
     "name": "stdout",
     "output_type": "stream",
     "text": [
      "[2, 1, 4, 1, 5]\n"
     ]
    }
   ],
   "source": [
    "# Building a Prefix Sum array\n",
    "class PrefixSum:\n",
    "    def __init__(self, nums):\n",
    "        self.prefix = []        # Created an empty list as an instance variable to store the prefix sums\n",
    "        total_sum = 0           # Initialised to keep track of running sum, starting from 0\n",
    "        for n in nums:          # Loop through each element of nums\n",
    "            total_sum += n      # Add current element n to the total_sum\n",
    "            self.prefix.append(total_sum)   # Append the current running sum to prefix sum array\n",
    "\n",
    "if __name__ == '__main__':\n",
    "    nums = [2, -1, 3, -3, 4]\n",
    "    ps = PrefixSum(nums)\n",
    "    print(ps.prefix)\n",
    "\n",
    "# Time Complexity: O(n) - we iterate through the array once \n",
    "# Space Complexity: O(1) - we store a new array of the same length"
   ]
  },
  {
   "cell_type": "markdown",
   "id": "d188334d",
   "metadata": {},
   "source": [
    "Range Sum Query\n",
    "- Problem: Given an array of values, design a data structure that can query the sum of a subarray of the values.\n",
    "- Before approching this problem, we will build the prefix sum array then \n",
    "- We can calculate the sum of any subarray that starts at left and ends at right in O(1) time."
   ]
  },
  {
   "cell_type": "code",
   "execution_count": null,
   "id": "27bb1b07",
   "metadata": {},
   "outputs": [
    {
     "name": "stdout",
     "output_type": "stream",
     "text": [
      "Prefix Sum: [2, 1, 4, 1, 5]\n",
      "Range Sum from 2nd to 4th index: 4\n"
     ]
    }
   ],
   "source": [
    "class RangeSum:\n",
    "    def __init__(self, nums):\n",
    "        self.prefix = []\n",
    "        total_sum = 0\n",
    "        for n in nums:\n",
    "            total_sum += n\n",
    "            self.prefix.append(total_sum)\n",
    "    \n",
    "    def rangeSum(self, left, right):\n",
    "        preRight = self.prefix[right]           # Getting prefix sum upto right index\n",
    "        if left > 0:                            # Checking if left index is not 0\n",
    "            preLeft = self.prefix[left - 1]     # Getting prefix sum upto (left - 1) index\n",
    "        else:                                   # If left is 0, handle edge cases\n",
    "            preLeft = 0                         # Set to 0 since no elements before index 0\n",
    "        return (preRight - preLeft)             # Return the difference (Subarray sum)\n",
    "\n",
    "if __name__ == '__main__':\n",
    "    nums = [2, -1, 3, -3, 4]\n",
    "    rs = RangeSum(nums)\n",
    "    print(f'Prefix Sum: {rs.prefix}')\n",
    "    print(f'Range Sum from 2nd to 4th index: {rs.rangeSum(2, 4)}')\n",
    "\n",
    "# Time Complexity: O(1)\n",
    "# Space Complexity: O(1)"
   ]
  }
 ],
 "metadata": {
  "kernelspec": {
   "display_name": "Python 3",
   "language": "python",
   "name": "python3"
  },
  "language_info": {
   "codemirror_mode": {
    "name": "ipython",
    "version": 3
   },
   "file_extension": ".py",
   "mimetype": "text/x-python",
   "name": "python",
   "nbconvert_exporter": "python",
   "pygments_lexer": "ipython3",
   "version": "3.10.6"
  }
 },
 "nbformat": 4,
 "nbformat_minor": 5
}
