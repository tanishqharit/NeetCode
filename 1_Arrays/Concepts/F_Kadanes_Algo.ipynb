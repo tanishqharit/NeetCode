{
 "cells": [
  {
   "cell_type": "markdown",
   "id": "295fb9fb",
   "metadata": {},
   "source": [
    "Kadane's Algorithm\n",
    "- Kadane's algorithm is a greedy / dynamic programming algo used with Arrays.\n",
    "- Motivation: Find a non-empty subarray with the largest sum or MAXIMUM SUM SUBARRAY.\n",
    "- Time Complexity: `O(n)`\n",
    "- We need to find a group of CONTIGUOUS elements in an array that result in the maximal sum.\n",
    "- Note: If all elements are positive, then maximum sum subarray is the entire array.\n",
    "- Note: If all elements are negative, in that case least negative element is maxSum."
   ]
  },
  {
   "cell_type": "code",
   "execution_count": 1,
   "id": "9239a444",
   "metadata": {},
   "outputs": [
    {
     "name": "stdout",
     "output_type": "stream",
     "text": [
      "7\n"
     ]
    }
   ],
   "source": [
    "# Brute Force Approach \n",
    "# Go through every single subarray and calculate the sum, also keeping track of maximum sum.\n",
    "# Time Complexity: O(n^2)\n",
    "# Although, this approach works, but this is not the most effecient.\n",
    "\n",
    "def BruteForce(nums):\n",
    "    maxSum = nums[0]\n",
    "\n",
    "    for i in range(len(nums)):\n",
    "        curSum = 0\n",
    "        for j in range(i, len(nums)):\n",
    "            curSum += nums[j]\n",
    "            maxSum = max(curSum, maxSum)\n",
    "    return maxSum\n",
    "\n",
    "if __name__ == '__main__':\n",
    "    nums = [4, -1, 2, -7, 3, 4]\n",
    "    print(BruteForce(nums))"
   ]
  },
  {
   "cell_type": "markdown",
   "id": "0bcbc664",
   "metadata": {},
   "source": [
    "Kadane's Algorithm - Time Complexity: O(n)\n",
    "1. We keep track of the current sum `curSum` by adding the current element to it.\n",
    "2. Before we add the current element, we check if the `curSum` is negative. \n",
    "3. If it is, we reset it to zero.\n",
    "4. We update the `maxSum` by taking the maximum of the current sum and the maximum sum so far."
   ]
  },
  {
   "cell_type": "code",
   "execution_count": 2,
   "id": "baae9148",
   "metadata": {},
   "outputs": [
    {
     "name": "stdout",
     "output_type": "stream",
     "text": [
      "7\n"
     ]
    }
   ],
   "source": [
    "# Effecient Approach - O(n) - as Kadane's algo runs on 1 loop.\n",
    "\n",
    "def Kadanes(nums):\n",
    "    maxSum = nums[0]\n",
    "    curSum = 0\n",
    "    \n",
    "    for n in nums:\n",
    "        curSum = max(curSum, 0)\n",
    "        curSum += n\n",
    "        maxSum = max(maxSum, curSum)\n",
    "    return maxSum\n",
    "\n",
    "if __name__ == '__main__':\n",
    "    nums = [4, -1, 2, -7, 3, 4]\n",
    "    print(Kadanes(nums))"
   ]
  }
 ],
 "metadata": {
  "kernelspec": {
   "display_name": "Python 3",
   "language": "python",
   "name": "python3"
  },
  "language_info": {
   "codemirror_mode": {
    "name": "ipython",
    "version": 3
   },
   "file_extension": ".py",
   "mimetype": "text/x-python",
   "name": "python",
   "nbconvert_exporter": "python",
   "pygments_lexer": "ipython3",
   "version": "3.10.6"
  }
 },
 "nbformat": 4,
 "nbformat_minor": 5
}
