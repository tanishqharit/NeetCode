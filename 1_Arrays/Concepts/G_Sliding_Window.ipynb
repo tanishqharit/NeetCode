{
 "cells": [
  {
   "cell_type": "markdown",
   "id": "a7e14a3a",
   "metadata": {},
   "source": [
    "Intuition behind Sliding Window: \n",
    "- Sometimes, a problem may ask to return the actual subarray containing the largest sum, instead of just the sum itself.\n",
    "- A window in this case denotes a contiguous subarray that does not break our constraint of the sum staying positive.\n",
    "- This technique involves 2 pointers (Left and Right), these pointers define the boundries of our window (inclusive).\n",
    "\n",
    "Applying Sliding Window on MaxSubarray Problem\n",
    "- Apart from L and R pointers, we can also have two other pointers, maxL and maxR, which keep track of the subarray that contains the maximum sum so far. This way, we don't lose them when we move L and R to further search the array.\n",
    "- Similar to Kadane's, if our curSum becomes negative, we will move our left pointer all the way to our right pointer.\n",
    "- This means that our constraint was broken and we remove all elements from the left and start a new window."
   ]
  },
  {
   "cell_type": "code",
   "execution_count": null,
   "id": "ef0dad1f",
   "metadata": {},
   "outputs": [
    {
     "name": "stdout",
     "output_type": "stream",
     "text": [
      "[4, 5]\n"
     ]
    }
   ],
   "source": [
    "def SlidingWindow(nums):\n",
    "    maxSum = nums[0]        # Initialising maximum sum with first element\n",
    "    curSum = 0              # Initialising current sum to 0\n",
    "    maxL, maxR = 0, 0       # Initialising pointers to track best subarray boundries\n",
    "    L = 0                   # Initialising left pointer to 0\n",
    "\n",
    "    for R in range(len(nums)):  # Loop through array with the right pointer\n",
    "        if curSum < 0:          # Check if current sum has become negative \n",
    "            curSum = 0          # If negative, reset current sum to 0 (start fresh)\n",
    "            L = R               # Move left pointer to right pointer position (starting new window)\n",
    "\n",
    "        curSum += nums[R]       # Add current element to current sum (then expand window)\n",
    "        if curSum > maxSum:     # Check if current sum is greater then the best sum found so far\n",
    "            maxSum = curSum     # If yes, update maximum sum with new best value\n",
    "            maxL, maxR = L,R    # Updating maxL and maxR to the new best window \n",
    "    \n",
    "    return [maxL, maxR]\n",
    "\n",
    "if __name__ == '__main__':\n",
    "    nums = [4, -1, 2, -7, 3, 4]\n",
    "    print(SlidingWindow(nums))\n",
    "\n",
    "# Time Complexity : O(n)\n",
    "# Space Complexity : O(1)\n",
    "\n",
    "# Dry Running the Code\n",
    "# Given array: nums = [4, -1, 2, -7, 3, 4]\n",
    "# Note: R, L, maxR, maxL are indexes (positions), while curSum and maxSum are sums (numbers) not positions.\n",
    "# R = 0 : curSum = 4,  maxSum = 4, maxL = 0, maxR = 0, L = 0\n",
    "# R = 1 : curSum = 3,  maxSum = 4, maxL = 0, maxR = 0, L = 0\n",
    "# R = 2 : curSum = 5,  maxSum = 5, maxL = 0, maxR = 2, L = 0\n",
    "# R = 3 : curSum = -2, then reset curSum = 0, L = 3               fresh start (discarding previous elements)\n",
    "# State : curSum = 0, maxSum = 5, maxL = 0, maxR = 2, L = 4\n",
    "# R = 4 : curSum = 3,  maxSum = 5, maxL = 0, maxR = 2, L = 4\n",
    "# R = 5 : curSum = 7,  maxSum = 7, maxL = 4, maxR = 5, L = 4\n",
    "# So, window (subarray) with max sum is [4, 5]\n"
   ]
  },
  {
   "cell_type": "markdown",
   "id": "68f932a5",
   "metadata": {},
   "source": [
    "Sliding Window Fixed Size:\n",
    "- Core Idea: A fixed sliding window maintains 2 pointers (left and right) that are always 'k' elements apart, ensuring the window size is exactly 'k'. This is useful when the problem requires us to analyze subarrays of fixed length under some constraint.\n",
    "- Problem: Given an array, return True if there are two elements within a window of size 'k' that are equal.\n",
    "- Example: nums = [1, 2, 3, 2, 3, 3], k = 3\n",
    "    - Brute Force: For each element, check the next k elements for duplicates. Nested Loops, Time Complexity: O(n * k)\n",
    "    - Sliding Window: Single loop, Time Complexity: O(n)"
   ]
  },
  {
   "cell_type": "code",
   "execution_count": null,
   "id": "e18148cc",
   "metadata": {},
   "outputs": [
    {
     "name": "stdout",
     "output_type": "stream",
     "text": [
      "True\n",
      "False\n"
     ]
    }
   ],
   "source": [
    "def closeDuplicates(nums, k):\n",
    "    window = set()                      # Initialising an empty set called window\n",
    "    L = 0                               # Initialising left pointer to 0 (start of the window)\n",
    "\n",
    "    for R in range(len(nums)):          # Loop through array with the right pointer\n",
    "        window_size = R - L + 1         # +1 is here because we count both ends (inclusive range)\n",
    "        if window_size > k:             # Checking if current window size exceeds k\n",
    "            window.remove(nums[L])      # If exceeded, remove the leftmost element from the set, shrink window and move forward\n",
    "            L += 1                      # Move the left pointer one position to the right\n",
    "\n",
    "        if nums[R] in window:           # Checking if the current element already exists in the window\n",
    "            return True                 # If duplicate found, return True, we found duplicates within distance k\n",
    "        window.add(nums[R])             # Add the current element to the window\n",
    "    \n",
    "    return False                        # Gone through entire array and no duplicates found\n",
    "\n",
    "if __name__ == '__main__':\n",
    "    print(closeDuplicates(nums = [1,2,3,2,3,3], k = 3))\n",
    "    print(closeDuplicates(nums = [1,2,3,4,5,6], k = 3))\n",
    "\n",
    "# Time Complexity: O(n)\n",
    "# Space Complexity: O(k)\n",
    "\n",
    "# Dry Running the code\n",
    "# Given: nums = [1, 2, 3, 2, 3, 3] and k = 3\n",
    "# Initial State: window = {}, L = 0\n",
    "# R = 0 : Window = 0 - 0 + 1 = 1 (1 <= 3, no removal needed), 1 not in window so adding it, window = {1}, L = 0\n",
    "# R = 1 : Window = 1 - 0 + 1 = 2 (2 <= 3, no removal needed), 2 not in window so adding it, window = {1, 2}, L = 0\n",
    "# R = 2 : Window = 2 - 0 + 1 = 3 (3 <= 3, no removal needed), 3 not in window so adding it, window = {1, 2, 3,}, L = 0\n",
    "# R = 3 : Window = 3 - 0 + 1 = 4 (4 <= 3, remove leftmost element, nums[0] = 1 from window), window = {2, 3}, \n",
    "# Move L to 1, so L = 1, 2 is already in the window - Return True and add nums[3] = 2 to the window."
   ]
  },
  {
   "cell_type": "markdown",
   "id": "734f373a",
   "metadata": {},
   "source": [
    "Sliding Window Variable Size\n",
    "- Core Idea: Unlike the fixed-size sliding window, here the window can grow or shrink dynamically depending on the problem constraints. We typically expand the window from the right to meet a condition, and then shrink it from the left to either optimize (maximize/minimize) the result or restore validity.\n",
    "- Problem 1: Find the length of the longest subarray where all elements are the same.\n",
    "    - Example: nums = [4, 2, 2, 3, 3, 3], ans: length = 3\n",
    "- Problem 2: Find the minimum length of a subarray whose sum is greater than or equal to a target value. Assume all numbers are positive.\n",
    "    - Example: nums = [2, 3, 1, 2, 4, 3], target = 7, ans: 2 (subarray [4, 3])"
   ]
  },
  {
   "cell_type": "code",
   "execution_count": null,
   "id": "c4182d81",
   "metadata": {},
   "outputs": [
    {
     "name": "stdout",
     "output_type": "stream",
     "text": [
      "3\n",
      "4\n"
     ]
    }
   ],
   "source": [
    "# Problem 1\n",
    "def longestSubarray(nums):\n",
    "    length = 0                              # Initialising length to 0 to track longest subarray length so far\n",
    "    L = 0                                   # Initialise left pointer to 0 (start of the current window)\n",
    "\n",
    "    for R in range(len(nums)):              # Loop through array with the right pointer\n",
    "        if nums[L] != nums[R]:              # Checking if element at left pointer is different from element at right pointer\n",
    "            L = R                           # Is yes, move left pointer to right position (start a new window)\n",
    "        length = max(length, R - L + 1)     # Update the maximum length by taking max of best length and current subarray length\n",
    "    return length\n",
    "\n",
    "if __name__ == '__main__':\n",
    "    print(longestSubarray(nums = [4, 2, 2, 3, 3, 3]))\n",
    "    print(longestSubarray(nums = [2, 2, 2, 2]))\n",
    "\n",
    "# Time Complexity: O(n)\n",
    "# Space Complexity: O(1)\n",
    "\n",
    "# Dry Running the code for 1st case \n",
    "# Given: nums = [4, 2, 2, 3, 3, 3]\n",
    "# Initial State: length = 0, L = 0\n",
    "# R = 0: nums[L] = nums [R] = nums[0] = 4, 4 == 4, window = [4], window_size = 0 - 0 + 1 = 1, length = max (0, 1) = 1\n",
    "# R = 1: nums[L] = nums[0] = 4, nums[R] = 2, 4 == 2 (no, move L to R), window = [2], window_size = 1 - 1 + 1 = 1, length = max (1, 1) = 1\n",
    "# R = 2: nums[L] = nums[1] = 2, nums[R] = 2, 2 == 2, window = [2, 2], window_size = 2 - 1 + 1 = 2, length = max (1, 2) = 2\n",
    "# R = 3: nums[L] = 2, nums[R] = 3, 2 == 3 (no, move L to R), window = [3], window_size = 3 - 3 + 1 = 1, length = max (2, 1) = 2\n",
    "# R = 4: nums[L] = 3, nums[R] = 3, 3 == 3, window = [3, 3], window_size = 4 - 3 + 1 = 2, length = max (2, 2) = 2\n",
    "# R = 5: nums[L] = 3, nums[R] = 3, 3 == 3, window = [3, 3, 3], window_size = 5 - 3 + 1 = 3, length = max (2, 3) = 3\n",
    "# Final State: length = 3, L = 3"
   ]
  },
  {
   "cell_type": "code",
   "execution_count": null,
   "id": "50f8d455",
   "metadata": {},
   "outputs": [
    {
     "name": "stdout",
     "output_type": "stream",
     "text": [
      "[5, 5]\n"
     ]
    }
   ],
   "source": [
    "# Problem 2 \n",
    "def shortestSubarray(nums, target):\n",
    "    L = 0                                       # Initialized left pointer L to 0 (start of the current window)\n",
    "    total = 0                                   # Initialized total to 0 to track the current sum of the window\n",
    "    length = len(nums) + 1                      # Initialize minimum length to len(nums) + 1 (until we find valid subarrays)\n",
    "\n",
    "    for R in range(len(nums)):                  # Loop through array with the right pointer\n",
    "        total += nums[R]                        # Add the current element nums[R] to the current window sum total (expand the window)\n",
    "        while total >= target:                  # While the current sum total is greater than or equal to the target\n",
    "            length = min(R - L + 1, length)     # Update the minimum length by taking min of current min length and window size\n",
    "            total -= nums[L]                    # Subtract the leftmost element from the current sum\n",
    "            L += 1                              # Move the left pointer L one position to the right (contract the window)\n",
    "        \n",
    "    if length == len(nums) + 1:                 # Check if length is still the impossible value\n",
    "        return 0                                # then return 0\n",
    "    else:                                       # else return min length\n",
    "        return length\n",
    "\n",
    "if __name__ == '__main__':\n",
    "    print(shortestSubarray(nums = [2, 3, 1, 2, 4, 3], target = 7))\n",
    "\n",
    "# Time Complexity: O(n) - it is O(n) even with nested loops\n",
    "# Space Complexity: O(1)\n",
    "\n",
    "# Dry Running the code\n",
    "# Given: nums = [2, 3, 1, 2, 4, 3], target = 7\n",
    "# Initial State: L = 0, total = 0, length = impossible value\n",
    "# R = 0: total = 0 + 2 = 2, 2 >= 7 no while loop, L = 0, total = 2, length = impossible value\n",
    "# R = 1: total = 2 + 3 = 5, 5 >= 7 no while loop, L = 0, total = 5, length = impossible value\n",
    "# R = 2: total = 5 + 1 = 6, 6 >= 7 no while loop, L = 0, total = 6, length = impossible value\n",
    "\n",
    "# R = 3: total = 6 + 2 = 8, 8 >= 7 yes enter while loop, length = min(3 - 0 + 1, 7) = min(4, 7) = 4, total = 8 - 2 = 6, L = 1\n",
    "#   again while loop, 6 >= 7 - No, exit while loop. State: L = 1, total = 6, length = 4\n",
    "\n",
    "# R = 4: total = 6 + 4 = 10, 10 >= 7 yes enter while loop, length = min(4 - 1 + 1, 4) = min(4, 4) = 4, total = 10 - 3 = 7, L = 2\n",
    "#   again while loop, 7 >= 7 -> Yes continue -> length = min(4 - 2 + 1, 4) = min(3, 4) = 3, total = 7 - 1 = 6, L = 3\n",
    "#   again while loop, 7 >= 7 -> No, exit while loop. State: L = 3, total = 6, length = 3\n",
    "\n",
    "# R = 5: total = 6 + 3 = 9, 9 >= 7 yes enter while loop, length = min(5 - 3 + 1, 3) = min(3, 3) = 3, total = 9 - 2 = 7, L = 4\n",
    "#   again while loop, 7 >= 7 -> Yes continiue -> length = min(5 - 4 + 1, 3) = min(2, 3) = 2, total = 7 - 4 = 3, L = 5\n",
    "#   again while loop, 3 >= 7 -> No, exit while loop. State: L = 5, total = 3, length = 2\n",
    "\n",
    "# Final State: length = 2, L = 5\n",
    "# Subarray found [4, 3]"
   ]
  }
 ],
 "metadata": {
  "kernelspec": {
   "display_name": "Python 3",
   "language": "python",
   "name": "python3"
  },
  "language_info": {
   "codemirror_mode": {
    "name": "ipython",
    "version": 3
   },
   "file_extension": ".py",
   "mimetype": "text/x-python",
   "name": "python",
   "nbconvert_exporter": "python",
   "pygments_lexer": "ipython3",
   "version": "3.10.6"
  }
 },
 "nbformat": 4,
 "nbformat_minor": 5
}
