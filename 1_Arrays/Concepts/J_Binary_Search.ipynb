{
 "cells": [
  {
   "cell_type": "markdown",
   "id": "eb8a2770",
   "metadata": {},
   "source": [
    "Binary Search Algorithm\n",
    "- Effecient way to find an element in SORTED array. Works by repeatedly dividing the search space in half.\n",
    "- Analogy: searching for a word in a dictionary → open in the middle, decide left/right, repeat.\n",
    "- If arr[mid] == target → element found.\n",
    "- If arr[mid] < target → search right half (L = mid + 1).\n",
    "- If arr[mid] > target → search left half (R = mid - 1).\n",
    "- Repeat until L > R."
   ]
  },
  {
   "cell_type": "code",
   "execution_count": null,
   "id": "b19e2e7b",
   "metadata": {},
   "outputs": [
    {
     "name": "stdout",
     "output_type": "stream",
     "text": [
      "Element found at index: 4\n",
      "-1\n"
     ]
    }
   ],
   "source": [
    "def BinarySearch(nums, target):\n",
    "    L, R = 0, len(nums) - 1\n",
    "    while L <= R:\n",
    "        mid = (L + R) // 2\n",
    "        if target > nums[mid]:\n",
    "            L = mid + 1\n",
    "        elif target < nums[mid]:\n",
    "            R = mid - 1\n",
    "        else:\n",
    "            return f'Element found at index: {mid}'\n",
    "    return -1\n",
    "\n",
    "if __name__ == '__main__':\n",
    "    print(BinarySearch(nums = [1,2,3,4,5,6,7,8], target = 5))\n",
    "    print(BinarySearch(nums = [1,2,3,4,5,6,7,8], target = 9))\n",
    "\n",
    "# Time Complexity: O(log n)\n",
    "# Space Complexity: O(1)\n",
    "# Binary search is the go-to technique for efficient searching in sorted structures, \n",
    "# reducing complexity from O(n) (linear search) → O(log n)."
   ]
  },
  {
   "cell_type": "markdown",
   "id": "e7fc917c",
   "metadata": {},
   "source": [
    "Search Range\n",
    "- "
   ]
  }
 ],
 "metadata": {
  "kernelspec": {
   "display_name": "Python 3",
   "language": "python",
   "name": "python3"
  },
  "language_info": {
   "codemirror_mode": {
    "name": "ipython",
    "version": 3
   },
   "file_extension": ".py",
   "mimetype": "text/x-python",
   "name": "python",
   "nbconvert_exporter": "python",
   "pygments_lexer": "ipython3",
   "version": "3.10.6"
  }
 },
 "nbformat": 4,
 "nbformat_minor": 5
}
