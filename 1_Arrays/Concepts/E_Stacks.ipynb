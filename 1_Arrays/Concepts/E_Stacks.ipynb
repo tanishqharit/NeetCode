{
 "cells": [
  {
   "cell_type": "markdown",
   "id": "7a9da454",
   "metadata": {},
   "source": [
    "- Stack is a dynamic data structure implemented using arrays in Python.\n",
    "- Note: In many programming languages there is no built in stack data structure.\n",
    "- It operates in LIFO (Last In First Out) manner.\n",
    "- Means last element added to the stack comes out first. Imagine a stack of plates.\n",
    "- We cannot add or remove element from middle of the stack.\n",
    "- Stack supports 3 operations - `push`, `pop` and `peek`\n",
    "  - push: adds element on top of the stack - `O(1)`\n",
    "  - pop: removes last element from the top - `O(1)`\n",
    "  - peek: returns the top element, without removing it - `O(1)`\n",
    "- Uses: It can be used to reverse sequences."
   ]
  },
  {
   "cell_type": "code",
   "execution_count": 1,
   "id": "7e88f2bb",
   "metadata": {},
   "outputs": [
    {
     "name": "stdout",
     "output_type": "stream",
     "text": [
      "Original Stack: [10, 20, 30]\n",
      "Peeking: 30\n",
      "After Poping: [10, 20]\n",
      "Size: 2\n"
     ]
    }
   ],
   "source": [
    "class Stack:\n",
    "    def __init__(self):\n",
    "        self.stack = []     # initialising empty stack\n",
    "\n",
    "    def push(self, n):\n",
    "        self.stack.append(n)    # appends n at the top of the stack\n",
    "    \n",
    "    def display(self):\n",
    "        return self.stack\n",
    "    \n",
    "    def pop(self):\n",
    "        if len(self.stack) == 0:\n",
    "            return 'Stack is empty'     # checking if stack is empty or not\n",
    "        else:\n",
    "            self.stack.pop()            # poping last element from the stack\n",
    "    \n",
    "    def peek(self):\n",
    "        return self.stack[-1]           # returning top element from the stack\n",
    "    \n",
    "    def size(self):\n",
    "        return len(self.stack)          # returns size of stack\n",
    "\n",
    "stack = Stack()\n",
    "stack.push(10)\n",
    "stack.push(20)\n",
    "stack.push(30)\n",
    "print(f'Original Stack: {stack.display()}')\n",
    "print(f'Peeking: {stack.peek()}')\n",
    "stack.pop()\n",
    "print(f'After Poping: {stack.display()}')\n",
    "print(f'Size: {stack.size()}')"
   ]
  }
 ],
 "metadata": {
  "kernelspec": {
   "display_name": "Python 3",
   "language": "python",
   "name": "python3"
  },
  "language_info": {
   "codemirror_mode": {
    "name": "ipython",
    "version": 3
   },
   "file_extension": ".py",
   "mimetype": "text/x-python",
   "name": "python",
   "nbconvert_exporter": "python",
   "pygments_lexer": "ipython3",
   "version": "3.10.6"
  }
 },
 "nbformat": 4,
 "nbformat_minor": 5
}
