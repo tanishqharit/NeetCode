{
 "cells": [
  {
   "cell_type": "markdown",
   "id": "dbcb0678",
   "metadata": {},
   "source": [
    "Dynamic Arrays\n",
    "1. Dynamic Arrays are a much more common alternative to static arrays. \n",
    "2. They are useful because they can grow as elements are added.\n",
    "3. In JavaScript and Python, these are the default arrays.\n",
    "4. Unlike static arrays, with dynamic arrays we don’t have to specify a size upon initialization.x\n",
    "\n",
    "We writing the code which is mimicking what Python lists already do internally but with manual control:\n",
    "1. Capacity management (resizing),\n",
    "2. Element insertion/removal,\n",
    "3. Index-based access.\n",
    "\n",
    "It helps us understand how dynamic arrays works under the hood.\n",
    "\n",
    "We're basically simulating how low-level arrays (like in C/C++) work, but in Python."
   ]
  },
  {
   "cell_type": "code",
   "execution_count": 1,
   "id": "66d10f19",
   "metadata": {},
   "outputs": [],
   "source": [
    "# Making a class called Array having default parameters to start.\n",
    "\n",
    "class Array:\n",
    "    def __int__(self):\n",
    "        self.capacity = 2       # capacity = 2\n",
    "        self.length = 0         # length = 0 (no elements but can carry 2)\n",
    "        self.array = [0] * 2    # both elements are 0 (just to start with)"
   ]
  },
  {
   "cell_type": "code",
   "execution_count": null,
   "id": "a2a8d3b4",
   "metadata": {},
   "outputs": [],
   "source": [
    "# Dynamic Array Insertion (At the end)\n",
    "\n",
    "def pushback(self, n):\n",
    "    if self.length == self.capacity:    # if array is full \n",
    "        self.resize()                   # then resize (double its size)\n",
    "\n",
    "    self.array[self.length] = n         # if not, then insert at next empty position\n",
    "    self.length += 1                    # increment length by 1.\n",
    "\n",
    "# We can add elements until we run out of space, if we do then we resize."
   ]
  },
  {
   "cell_type": "code",
   "execution_count": 3,
   "id": "ac713d92",
   "metadata": {},
   "outputs": [],
   "source": [
    "# Dynamic Array Resize\n",
    "\n",
    "'''\n",
    "Since the array is dynamic in size, we can continue to add elements, but it's not magic.\n",
    "This is achieved by copying over the values to a new static array that is double the size.\n",
    "'''\n",
    "\n",
    "def resize(self):\n",
    "    self.capacity = 2 * self.capacity   # Creating new array of double capacity.\n",
    "    newArray = [0] * self.capacity      # Adding 0s (empty array)\n",
    "    \n",
    "    # Now, copying elements from the original array\n",
    "    \n",
    "    for i in range(self.length):        # Until the length\n",
    "        newArray[i] = self.array[i]     # Copy each element of self.array to newArray\n",
    "    self.array = newArray               # Finally, make newArray as self.array (re-initialise)\n",
    "    \n",
    "# When all the elements from the first array have been copied over, \n",
    "# the first static array will be deallocated and memory space will be free."
   ]
  },
  {
   "cell_type": "markdown",
   "id": "49b0a570",
   "metadata": {},
   "source": [
    "Adding elements to dynamic array - O(1) amortized time\n",
    "\n",
    "- Amortized time complexity is the average time taken per operation over a sequence of operations.\n",
    "\n",
    "The resize operation itself is O(n), but since it is not performed every time we add an element, the average time taken per operation is O(1)."
   ]
  },
  {
   "cell_type": "code",
   "execution_count": 4,
   "id": "4b4f6651",
   "metadata": {},
   "outputs": [],
   "source": [
    "# Remove last element from Dynamic Array\n",
    "\n",
    "def popback(self):\n",
    "    if self.length > 0:     # if array is not empty\n",
    "        self.length -= 1    # decrease length by 1 (means deleting last element)"
   ]
  },
  {
   "cell_type": "code",
   "execution_count": 5,
   "id": "090ce4be",
   "metadata": {},
   "outputs": [],
   "source": [
    "# Getting value at i'th index\n",
    "\n",
    "def getvalue(self, index):\n",
    "    if index < self.length:         # if index in length (not out of bounds)\n",
    "        return self.array[index]    # return element at that index"
   ]
  },
  {
   "cell_type": "code",
   "execution_count": 6,
   "id": "a1d12375",
   "metadata": {},
   "outputs": [],
   "source": [
    "# Inserting value at i'th index\n",
    "\n",
    "def insert(self, index, new_element):\n",
    "    if index < self.length:\n",
    "        self.arr[i] = new_element"
   ]
  },
  {
   "cell_type": "code",
   "execution_count": 7,
   "id": "c99d42ed",
   "metadata": {},
   "outputs": [],
   "source": [
    "# Print all elements in an array\n",
    "\n",
    "def elements(self):\n",
    "    for i in range(self.length):\n",
    "        print(self.array[i])"
   ]
  }
 ],
 "metadata": {
  "kernelspec": {
   "display_name": "Python 3",
   "language": "python",
   "name": "python3"
  },
  "language_info": {
   "codemirror_mode": {
    "name": "ipython",
    "version": 3
   },
   "file_extension": ".py",
   "mimetype": "text/x-python",
   "name": "python",
   "nbconvert_exporter": "python",
   "pygments_lexer": "ipython3",
   "version": "3.10.6"
  }
 },
 "nbformat": 4,
 "nbformat_minor": 5
}
