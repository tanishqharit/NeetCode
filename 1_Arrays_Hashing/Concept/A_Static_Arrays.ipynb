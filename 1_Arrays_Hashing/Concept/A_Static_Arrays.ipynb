{
 "cells": [
  {
   "cell_type": "markdown",
   "id": "b5fd063c",
   "metadata": {},
   "source": [
    "Static Arrays vs Dynamic Arrays\n",
    "1. In statically typed languages (e.g., Java, C++), arrays are fixed-size and type-specific, these are known as Static Arrays.\n",
    "2. Once initialized, their size cannot be changed. Insertion beyond capacity is not allowed.\n",
    "3. Python, however, uses dynamic arrays (i.e., Lists) which handle resizing internally."
   ]
  },
  {
   "cell_type": "code",
   "execution_count": 1,
   "id": "8c0b29b1",
   "metadata": {},
   "outputs": [],
   "source": [
    "# Array Inistialisation and Declaration\n",
    "myArray = [1, 3, 5]"
   ]
  },
  {
   "cell_type": "markdown",
   "id": "16851cc5",
   "metadata": {},
   "source": [
    "Reading / Accessing Elements\n",
    "1. Accessing an element at any index (using indexing) is done in O(1) time — constant time.\n",
    "2. Internally, each index is mapped directly to a memory address.\n",
    "\n",
    "Note : O(1) doesn’t always mean \"fast\", just that it doesn’t grow with input size."
   ]
  },
  {
   "cell_type": "code",
   "execution_count": 2,
   "id": "b6b98511",
   "metadata": {},
   "outputs": [
    {
     "data": {
      "text/plain": [
       "3"
      ]
     },
     "execution_count": 2,
     "metadata": {},
     "output_type": "execute_result"
    }
   ],
   "source": [
    "myArray[1]      # Accessing element at index 1."
   ]
  },
  {
   "cell_type": "markdown",
   "id": "bb740b9d",
   "metadata": {},
   "source": [
    "Writing / Editing Elements\n",
    "1. Editing an element (by index) is O(1)."
   ]
  },
  {
   "cell_type": "code",
   "execution_count": 3,
   "id": "c4278d4d",
   "metadata": {},
   "outputs": [
    {
     "name": "stdout",
     "output_type": "stream",
     "text": [
      "[10, 3, 5]\n"
     ]
    }
   ],
   "source": [
    "myArray[0] = 10     # Changes element at 0th index to 10.\n",
    "\n",
    "print(myArray)"
   ]
  },
  {
   "cell_type": "markdown",
   "id": "1b22fbb2",
   "metadata": {},
   "source": [
    "Inserting Elements (At the End)\n",
    "1. Effecient, Done in O(1) time if space is available."
   ]
  },
  {
   "cell_type": "code",
   "execution_count": 4,
   "id": "6530572b",
   "metadata": {},
   "outputs": [
    {
     "name": "stdout",
     "output_type": "stream",
     "text": [
      "[1, 3, 5, 7]\n"
     ]
    }
   ],
   "source": [
    "def insertEnd(array, new_element, length, size):\n",
    "    \n",
    "    if length < size:                   # if there is space at the end\n",
    "        array[length] = new_element     # then at last index (which is length) put n (new element)\n",
    "\n",
    "    print(array)                # printing the new array.\n",
    "\n",
    "if __name__ == \"__main__\":\n",
    "    array = [1, 3, 5, 0]\n",
    "    length = 3\n",
    "    size = 4\n",
    "    new_element = 7\n",
    "    \n",
    "    insertEnd(array, new_element, length, size)"
   ]
  },
  {
   "cell_type": "markdown",
   "id": "2c5de6ef",
   "metadata": {},
   "source": [
    "Inserting Elements (In the Middle or Start) - Costly\n",
    "1. Requires shifting elements one position to the right to make space.\n",
    "2. Time complexity: O(n)"
   ]
  },
  {
   "cell_type": "code",
   "execution_count": 5,
   "id": "3f3c7817",
   "metadata": {},
   "outputs": [
    {
     "name": "stdout",
     "output_type": "stream",
     "text": [
      "[1, 2, 3, 4, 5, 99, 6, 7, 8, 9, 10]\n"
     ]
    }
   ],
   "source": [
    "def insertMiddle(array, index, new_element, length):\n",
    "    \n",
    "    # array - the list (assuming having enough space).\n",
    "    # index - where new element is is to be inserted.\n",
    "    # i - original array index to track movement.\n",
    "    # length - number of currently filled elements.\n",
    "    \n",
    "    for i in range(length - 1, index - 1, -1):\n",
    "        array[i + 1] = array[i]\n",
    "    array[index] = new_element\n",
    "    print(array)\n",
    "\n",
    "''' \n",
    "[1, 2, 3, 4, 5, 6, 7, 8, 9, 10]\n",
    "Suppose we want to add an element at index 5, (currently value = 6)\n",
    "\n",
    "We need to shift elements,\n",
    "So, we will start from the last index, i.e length - 1 (10 - 1 = 9), 9th index till\n",
    "index we want to place the new element, index - 1 (5 - 1 = 4), 4th index (not inclusive),\n",
    "and we are going to copy each value to it next index,\n",
    "The loop is moving backwards (-1 step), so that values are not overwritten before they are copied.\n",
    "\n",
    "array[i + 1] = array[i],\n",
    "\n",
    "array[9 + 1] = array[9], so 10 at index 10\n",
    "array[8 + 1] = array[8], so 9 at index 9\n",
    "array[7 + 1] = array[7], so 8 at index 8\n",
    "array[6 + 1] = array[6], so 7 at index 7\n",
    "array[5 + 1] = array[5], so 6 at index 6\n",
    "and 6 will be still at index 5,\n",
    "\n",
    "now, new array is\n",
    "[1, 2, 3, 4, 5, 6, 6, 7, 8, 9, 10]          there are two 6's now\n",
    "\n",
    "Finally, we can add new element at index 5, without losing any actual array element.\n",
    "array[index] = new_element\n",
    "Suppose, new_element = 99\n",
    "now, final array is\n",
    "[1, 2, 3, 4, 5, 99, 6, 7, 8, 9, 10]\n",
    "\n",
    "Length of array is incremented by 1.\n",
    "'''\n",
    "    \n",
    "if __name__ == '__main__':\n",
    "    array = [1, 2, 3, 4, 5, 6, 7, 8, 9, 10, 0]      # size = 11, room for new element\n",
    "    length = 10\n",
    "    index = 5\n",
    "    new_element = 99\n",
    "        \n",
    "    insertMiddle(array, index, new_element, length)"
   ]
  },
  {
   "cell_type": "markdown",
   "id": "97e9ff6c",
   "metadata": {},
   "source": [
    "Removing Elements (From the End)\n",
    "1. Set the last element to 0 (soft delete) and decrement length.\n",
    "2. Time complexity: O(1)"
   ]
  },
  {
   "cell_type": "code",
   "execution_count": 6,
   "id": "d10a3310",
   "metadata": {},
   "outputs": [
    {
     "name": "stdout",
     "output_type": "stream",
     "text": [
      "[1, 2, 3, 4, 0]\n"
     ]
    }
   ],
   "source": [
    "def removeEnd(array, length):\n",
    "    if length > 0:\n",
    "        array[length - 1] = 0   # Put 0 at 4th index (5th position)\n",
    "    print(array)\n",
    "\n",
    "if __name__ == '__main__':\n",
    "    array = [1, 2, 3, 4, 5]\n",
    "    length = 5\n",
    "    \n",
    "    removeEnd(array, length)"
   ]
  },
  {
   "cell_type": "markdown",
   "id": "eafd3e2a",
   "metadata": {},
   "source": [
    "Removing Elements (From the Middle or Start) - Costly\n",
    "1. Requires shifting elements left to maintain contiguity.\n",
    "2. Time complexity: O(n)"
   ]
  },
  {
   "cell_type": "code",
   "execution_count": 7,
   "id": "261faa8d",
   "metadata": {},
   "outputs": [
    {
     "name": "stdout",
     "output_type": "stream",
     "text": [
      "[2, 3, 4, 5, 6, 7, 8, 9, 10, 0]\n"
     ]
    }
   ],
   "source": [
    "def removeMiddle(array, index, length):\n",
    "    for i in range(index + 1, length):\n",
    "        array[i - 1] = array[i]\n",
    "    array[length - 1] = 0           # put last element = 0\n",
    "    print(array)\n",
    "\n",
    "'''\n",
    "[1, 2, 3, 4, 5, 6, 7, 8, 9, 10]\n",
    "Suppose, we want to remove first element at index 0 (currently 1) and array should look like this\n",
    "[2, 3, 4, 5, 6, 7, 8, 9, 10, 0]\n",
    "\n",
    "We need to shift elements,\n",
    "So we will start from, index + 1 (0 + 1 = 1), 1st index till \n",
    "last (length = 10, 10th index, not inclusive, basically 9th index)\n",
    "and we are going to copy each value to its previous index,\n",
    "\n",
    "array[index - 1] = array[index]\n",
    "\n",
    "array[1 - 1] = array[1], array[0] = array[1], so 2 at index 0\n",
    "array[2 - 1] = array[2], array[1] = array[2], so 3 at index 1\n",
    "array[3 - 1] = array[3], array[2] = array[3], so 4 at index 2\n",
    "array[4 - 1] = array[4], array[3] = array[4], so 5 at index 3\n",
    "array[5 - 1] = array[5], array[4] = array[5], so 6 at index 4\n",
    "array[6 - 1] = array[6], array[5] = array[6], so 7 at index 5\n",
    "array[7 - 1] = array[7], array[6] = array[7], so 8 at index 6\n",
    "array[8 - 1] = array[8], array[7] = array[8], so 9 at index 7\n",
    "array[9 - 1] = array[9], array[8] = array[9], so 10 at index 8\n",
    "\n",
    "and then we will put last element as 0\n",
    "array[length - 1] = 0\n",
    "so, new array will look like this,\n",
    "[2, 3, 4, 5, 6, 7, 8, 9, 10, 0]\n",
    "\n",
    "Length of array is decremented by 1.\n",
    "'''\n",
    "\n",
    "if __name__ == '__main__':\n",
    "    array = [1, 2, 3, 4, 5, 6, 7, 8, 9, 10]\n",
    "    length = 10\n",
    "    index = 0\n",
    "    \n",
    "    removeMiddle(array, index, length)"
   ]
  },
  {
   "cell_type": "markdown",
   "id": "931567f5",
   "metadata": {},
   "source": [
    "Traversing Through an Array\n",
    "1. Looping through all elements of an array takes O(n) time.\n",
    "2. The last element is always at index n-1, where n is the size of the array."
   ]
  },
  {
   "cell_type": "code",
   "execution_count": 8,
   "id": "3d1db333",
   "metadata": {},
   "outputs": [
    {
     "name": "stdout",
     "output_type": "stream",
     "text": [
      "1\n",
      "2\n",
      "3\n",
      "4\n",
      "5\n"
     ]
    }
   ],
   "source": [
    "array = [1,2,3,4,5]\n",
    "\n",
    "for i in range(len(array)):\n",
    "    print(array[i])\n",
    "\n",
    "# This loop will print all the elements present in the array."
   ]
  },
  {
   "cell_type": "markdown",
   "id": "80a83c3a",
   "metadata": {},
   "source": [
    "Summary - Time Complexity of Array Operations\n",
    "\n",
    "| Operation                     | Time Complexity |\n",
    "|------------------------------|------------------|\n",
    "| Read / Write i-th Element    | O(1)             |\n",
    "| Insert at End                | O(1)             |\n",
    "| Remove from End              | O(1)             |\n",
    "| Insert at Middle/Start       | O(n)             |\n",
    "| Remove from Middle/Start     | O(n)             |\n",
    "| Traverse Entire Array        | O(n)             |"
   ]
  },
  {
   "cell_type": "code",
   "execution_count": null,
   "id": "fe7c5338",
   "metadata": {},
   "outputs": [],
   "source": [
    "'''\n",
    "VIDEO Explaination\n",
    "\n",
    "In statically typed languages (Java, C++ etc.) arrays have allocated size and type when initialised.\n",
    "There are know as Static Arrays.\n",
    "They are called static because the size of the array cannot change once declared.\n",
    "And once the array is full, it can not store additional elements.\n",
    "\n",
    "- Reading / Accessing elements from an Array:\n",
    "    This is can be done using indexing, and no matter how big the array is,\n",
    "    this operation is always O(1) [Constant time].\n",
    "    In an array, first index is always 0.\n",
    "    \n",
    "- Wrting / Editing the array\n",
    "    Remember, Arrays are of fixed size. (Static Arrays - Fixed Size Arrays)\n",
    "        \n",
    "       myArray = [1, 3, 5] - Stored in RAM (Value and Addresses)\n",
    "    Memory Add =  0  4  8 \n",
    "    \n",
    "    We declared an array of fixed size (size = 3),\n",
    "    Suppose we want to add another element into this array,\n",
    "    by looking at the memory address, we have to add that element at address = 12,\n",
    "    to keep the elements contigious.\n",
    "     \n",
    "    BUT BUT BUT\n",
    "    \n",
    "    We don't know that, if that particular space (mem add = 12) is empty or not,\n",
    "    there can some another array over that memory address or maybe some OS file, \n",
    "    We don't get to decide that.\n",
    "        \n",
    "    2nd option, let just the operating system decide, put 7 anywhere\n",
    "    but it will not follow the property of array i.e contigious elements,\n",
    "    now we have 2 arrays.\n",
    "        \n",
    "    NOTE : Don't worry, in Python we have Dynamic Arrays.\n",
    "        \n",
    "- Performing operations (At the END of Array)\n",
    "    Suppose size = 3, initially empty, [0, 0, 0]\n",
    "    We start adding values, [5, 6, 7]\n",
    "    \n",
    "    Now, if we want to remove a value, we cannot actually remove or delete \n",
    "    a value, we are just replacing it with 0. No longer relevant.\n",
    "    We are not deleting it we are overriding it.\n",
    "    new array = [5, 6, 0]\n",
    "    \n",
    "    Also, removing or adding an element at the end of array is always O(1).\n",
    "    Constant time, because we know the index positon. (n - 1) (Length - 1)\n",
    "    \n",
    "    Doing any operation at the end, is always effecient.\n",
    "\n",
    "- Performing operations (At the MIDDLE or START of Array)\n",
    "    Suppose, we want to insert a value into the middle of the array,\n",
    "    It is not going to be effecient because...\n",
    "    \n",
    "    Let's take the above array , [5, 6, 0]\n",
    "    Suppose, we want to add 4 to the start [0th index]\n",
    "    if we do array[0] = 4\n",
    "    then this will override the value, and new array will be [4, 6, 0] not [4, 5, 6].\n",
    "\n",
    "    In order to this, we first have to shift the values,\n",
    "    6 to 2nd index - now 1st index is empty [5, 0, 6], then     (index + 1)\n",
    "    5 to 1st index - now 0th index is empty [0, 5, 6],          (index + 1)\n",
    "\n",
    "    now, there is space at 0th index and we can add 4.\n",
    "    new array is [4, 5, 6].\n",
    "\n",
    "    DOWNSIDE : We cannot do this in a single operation,\n",
    "    Imagine a really long array and we have to insert a value at beginning,\n",
    "    this is not very effecient,\n",
    "\n",
    "    This is O(n) operation.\n",
    "    here, n is number of moved values.\n",
    "    This is worst case, we had to shift every value.\n",
    "\n",
    "    If we want to add it in the middle,\n",
    "    This is still O(n) operation.\n",
    "    But, this is average case.\n",
    "\n",
    "    And this is also true for removing values,\n",
    "    Suppose, [5, 6, 7]\n",
    "    We want to remove 5, not just [0, 6, 7]\n",
    "    We want first value to be 6, [6, 7, 0]\n",
    "    Here also shifting of elements is required.\n",
    "    Which is O(n).\n",
    "'''"
   ]
  }
 ],
 "metadata": {
  "kernelspec": {
   "display_name": "Python 3",
   "language": "python",
   "name": "python3"
  },
  "language_info": {
   "codemirror_mode": {
    "name": "ipython",
    "version": 3
   },
   "file_extension": ".py",
   "mimetype": "text/x-python",
   "name": "python",
   "nbconvert_exporter": "python",
   "pygments_lexer": "ipython3",
   "version": "3.10.6"
  }
 },
 "nbformat": 4,
 "nbformat_minor": 5
}
