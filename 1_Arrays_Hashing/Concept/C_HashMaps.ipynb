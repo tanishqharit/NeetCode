{
 "cells": [
  {
   "cell_type": "markdown",
   "id": "c5cbbf0d",
   "metadata": {},
   "source": [
    "Introduction to Hash Map\n",
    "1. Python Dictionary Data Structure.\n",
    "2. Difference between a set and a map is that in sets contain keys only, while maps contain key-value pairs.\n",
    "3. When questions use the workds \"unique\", \"count\", or \"frequency\", it is almost certain a hashmap or hashset will be useful for solving the problem.\n",
    "4. The Insert, Remove and Search operation in Hash Map is O(1).\n",
    "5. The downside of hash maps is that they are NOT ORDERED, so it not possible to traverse the keys of a hashmap in any particular order. If we want to iterate through all the keys, we would first need to sort them, which will run in O(n log n) time, making it slower.\n",
    "6. Because hashmaps don't allow duplicates and have key-value pairs, used to count the frequency of keys."
   ]
  },
  {
   "cell_type": "code",
   "execution_count": null,
   "id": "8195b5b4",
   "metadata": {},
   "outputs": [
    {
     "name": "stdout",
     "output_type": "stream",
     "text": [
      "{'alice': 1, 'brad': 2, 'collin': 1, 'dylan': 1, 'kim': 1}\n"
     ]
    }
   ],
   "source": [
    "'''\n",
    "Given an array below, we need to check frequency of names present.\n",
    "[\"alice\", \"brad\", \"collin\", \"brad\", \"dylan\", \"kim\"]\n",
    "\n",
    "Appraoch\n",
    "1. We can add all the elements into a hash map as keys.\n",
    "2. Because hash maps do not allow duplicates, we can use this to our advantage.\n",
    "3. If a name already exists in our hash map as the key and we encounter it again in our array, \n",
    "we can just increment its value by 1.\n",
    "4. If the name does not exist, we can add it to our hash map and set the frequency to 1.\n",
    "'''\n",
    "\n",
    "names = [\"alice\", \"brad\", \"collin\", \"brad\", \"dylan\", \"kim\"]\n",
    "\n",
    "frequency = {}      # Created a hashmap to store names and their frequencies.\n",
    "\n",
    "for name in names:\n",
    "    if name not in frequency:\n",
    "        frequency[name] = 1     # Simply add name if not present and set frequency = 1.\n",
    "    else:\n",
    "        frequency[name] += 1    # If encountered again, increment by 1.\n",
    "\n",
    "print(frequency)\n",
    "\n",
    "'''\n",
    "Time Complexity : O(n)      n = size of array.\n",
    "Space Complexity : O(n)     n = unique keys in the array.\n",
    "'''"
   ]
  }
 ],
 "metadata": {
  "kernelspec": {
   "display_name": "Python 3",
   "language": "python",
   "name": "python3"
  },
  "language_info": {
   "codemirror_mode": {
    "name": "ipython",
    "version": 3
   },
   "file_extension": ".py",
   "mimetype": "text/x-python",
   "name": "python",
   "nbconvert_exporter": "python",
   "pygments_lexer": "ipython3",
   "version": "3.10.6"
  }
 },
 "nbformat": 4,
 "nbformat_minor": 5
}
